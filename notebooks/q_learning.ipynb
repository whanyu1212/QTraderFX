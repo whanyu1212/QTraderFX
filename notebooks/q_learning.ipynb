{
 "cells": [
  {
   "cell_type": "code",
   "execution_count": 31,
   "metadata": {},
   "outputs": [],
   "source": [
    "import pandas as pd\n",
    "import numpy as np\n",
    "class QLearningTrader:\n",
    "    def __init__(self, num_actions, learning_rate, discount_factor, exploration_prob, state_bins):\n",
    "        self.num_actions = num_actions\n",
    "        self.learning_rate = learning_rate\n",
    "        self.discount_factor = discount_factor\n",
    "        self.exploration_prob = exploration_prob\n",
    "        self.state_bins = state_bins\n",
    "        self.num_states = len(state_bins) + 1\n",
    "        self.q_table = np.zeros((self.num_states, num_actions))\n",
    "        self.train_log = []  # Initialize an empty list to log actions during training\n",
    "        self.test_log = []  # Initialize an empty list to log actions during testing\n",
    "        self.predict_log = []  # Initialize an empty list to log predictions\n",
    "\n",
    "    def discretize_state(self, state_value):\n",
    "        \"\"\"Discretize a continuous state into a discrete state.\"\"\"\n",
    "        return np.digitize(state_value, self.state_bins)\n",
    "\n",
    "    def choose_action(self, discrete_state):\n",
    "        if np.random.rand() < self.exploration_prob:\n",
    "            action = np.random.choice(self.num_actions)\n",
    "        else:\n",
    "            action = np.argmax(self.q_table[discrete_state])\n",
    "        return action\n",
    "\n",
    "    def update_q_table(self, current_state, action, reward, next_state):\n",
    "        current_q = self.q_table[current_state, action]\n",
    "        future_q = np.max(self.q_table[next_state])\n",
    "        new_q = (1 - self.learning_rate) * current_q + self.learning_rate * (reward + self.discount_factor * future_q)\n",
    "        self.q_table[current_state, action] = new_q\n",
    "\n",
    "    def log_action(self, log_type, time_step, current_state, action, reward, next_state):\n",
    "        \"\"\"Logs the details of an action taken by the trader.\"\"\"\n",
    "        log_entry = {\n",
    "            'time_step': time_step,\n",
    "            'current_state': current_state,\n",
    "            'action': action,\n",
    "            'reward': reward,\n",
    "            'next_state': next_state\n",
    "        }\n",
    "        if log_type == 'train':\n",
    "            self.train_log.append(log_entry)\n",
    "        elif log_type == 'test':\n",
    "            self.test_log.append(log_entry)\n",
    "\n",
    "    def take_action(self, current_close, next_close):\n",
    "        \"\"\"Example reward calculation.\"\"\"\n",
    "        if next_close > current_close:\n",
    "            return 1  # Profit\n",
    "        else:\n",
    "            return -1  # Loss\n",
    "\n",
    "    def train(self, historical_data):\n",
    "        for i in range(len(historical_data) - 1):\n",
    "            current_close = historical_data.iloc[i]['close']\n",
    "            next_close = historical_data.iloc[i + 1]['close']\n",
    "            current_state = self.discretize_state(current_close)\n",
    "            next_state = self.discretize_state(next_close)\n",
    "\n",
    "            action = self.choose_action(current_state)\n",
    "            reward = self.take_action(current_close, next_close)\n",
    "            self.update_q_table(current_state, action, reward, next_state)\n",
    "            self.log_action('train', i, current_state, action, reward, next_state)\n",
    "\n",
    "    def evaluate(self, test_data):\n",
    "        total_profit = 0\n",
    "        for i in range(len(test_data) - 1):\n",
    "            current_close = test_data.iloc[i]['close']\n",
    "            next_close = test_data.iloc[i + 1]['close']\n",
    "            current_state = self.discretize_state(current_close)\n",
    "            next_state = self.discretize_state(next_close)\n",
    "\n",
    "            action = self.choose_action(current_state)\n",
    "            reward = self.take_action(current_close, next_close)\n",
    "            total_profit += reward\n",
    "\n",
    "            self.log_action('test', i, current_state, action, reward, next_state)\n",
    "\n",
    "        print(f\"Total Profit: {total_profit}\")\n",
    "        \n",
    "    def log_prediction(self, current_state, action):\n",
    "        \"\"\"\n",
    "        Logs details of predictions.\n",
    "        \n",
    "        :param current_state: The current discretized state.\n",
    "        :param action: The action chosen based on the current state.\n",
    "        \"\"\"\n",
    "        self.predict_log.append({\n",
    "            'current_state': current_state,\n",
    "            'action': action\n",
    "        })\n",
    "\n",
    "    def predict_action(self, current_data_df):\n",
    "        \"\"\"\n",
    "        Predicts an action for a single row of incoming data, where the data is provided as a DataFrame.\n",
    "        \n",
    "        :param current_data_df: A DataFrame containing a single row of incoming data.\n",
    "        :return: The action chosen based on the current state.\n",
    "        \"\"\"\n",
    "        # Ensure the DataFrame contains exactly one row\n",
    "        if len(current_data_df) != 1:\n",
    "            raise ValueError(\"DataFrame must contain exactly one row of data.\")\n",
    "\n",
    "        # Extract the 'close' price from the DataFrame\n",
    "        current_close = current_data_df['close'].iloc[0]\n",
    "\n",
    "        # Discretize the current state based on the 'close' price\n",
    "        current_state = self.discretize_state(current_close)\n",
    "\n",
    "        # Choose an action based on the current state using the policy defined by the Q-table\n",
    "        action = self.choose_action(current_state)\n",
    "        \n",
    "        # Log the prediction\n",
    "        self.log_prediction(current_state, action)\n",
    "        \n",
    "        return action\n",
    "    \n",
    "    def calculate_reward(self, current_close, next_close, action):\n",
    "        \"\"\"\n",
    "        Calculates the reward for an action based on price movement.\n",
    "\n",
    "        :param current_close: The closing price at the current state.\n",
    "        :param next_close: The closing price at the next state.\n",
    "        :param action: The action taken.\n",
    "        :return: The calculated reward.\n",
    "        \"\"\"\n",
    "        # Example reward calculation\n",
    "        if action == 0:  # Assuming 0 is 'buy'\n",
    "            reward = next_close - current_close  # Profit if the price goes up\n",
    "        elif action == 1:  # Assuming 1 is 'sell'\n",
    "            reward = current_close - next_close  # Profit if the price goes down\n",
    "        else:  # Assuming 2 is 'hold' or any other non-trading action\n",
    "            reward = 0  # No profit or loss\n",
    "        return reward\n",
    "\n",
    "    def online_update(self, current_data_df, next_data_df):\n",
    "        \"\"\"\n",
    "        Updates the Q-table based on a new single-row observation.\n",
    "\n",
    "        :param current_data_df: DataFrame with the current observation.\n",
    "        :param next_data_df: DataFrame with the next observation for determining the outcome.\n",
    "        \"\"\"\n",
    "        if len(current_data_df) != 1 or len(next_data_df) != 1:\n",
    "            raise ValueError(\"Each DataFrame must contain exactly one row of data.\")\n",
    "\n",
    "        current_close = current_data_df['close'].iloc[0]\n",
    "        next_close = next_data_df['close'].iloc[0]\n",
    "\n",
    "        # Retrieve the last action predicted, assuming it's stored or logged\n",
    "        if not self.predict_log:\n",
    "            raise ValueError(\"No prior action to update from; ensure a prediction was made.\")\n",
    "        last_prediction = self.predict_log[-1]\n",
    "        current_state = last_prediction['current_state']\n",
    "        action = last_prediction['action']\n",
    "\n",
    "        # Calculate the reward based on the action taken and the observed price movement\n",
    "        reward = self.calculate_reward(current_close, next_close, action)\n",
    "\n",
    "        next_state = self.discretize_state(next_close)\n",
    "\n",
    "        # Update the Q-table\n",
    "        self.update_q_table(current_state, action, reward, next_state)\n",
    "\n",
    "    def get_predict_log(self):\n",
    "        \"\"\"Returns the log of all predictions made.\"\"\"\n",
    "        return pd.DataFrame(self.predict_log)\n",
    "\n",
    "    def get_train_log(self):\n",
    "        \"\"\"Returns the log of all training actions taken.\"\"\"\n",
    "        return pd.DataFrame(self.train_log)\n",
    "\n",
    "    def get_test_log(self):\n",
    "        \"\"\"Returns the log of all testing actions taken.\"\"\"\n",
    "        return pd.DataFrame(self.test_log)\n"
   ]
  },
  {
   "cell_type": "code",
   "execution_count": 32,
   "metadata": {},
   "outputs": [
    {
     "data": {
      "text/plain": [
       "True"
      ]
     },
     "execution_count": 32,
     "metadata": {},
     "output_type": "execute_result"
    }
   ],
   "source": [
    "import oandapyV20\n",
    "import oandapyV20.endpoints.instruments as instruments\n",
    "from dotenv import load_dotenv\n",
    "import os\n",
    "load_dotenv()"
   ]
  },
  {
   "cell_type": "code",
   "execution_count": 33,
   "metadata": {},
   "outputs": [],
   "source": [
    "client = oandapyV20.API(access_token=os.getenv(\"OANDA_ACCESS_TOKEN\"))\n",
    "\n",
    "params = {'granularity': 'M10', 'count': 500}\n",
    "r = instruments.InstrumentsCandles(instrument=\"USD_JPY\",\n",
    "                                   params=params)\n",
    "client.request(r)\n",
    "\n",
    "data = [{'time': d['time'], \n",
    "         'h': d['mid']['h'], \n",
    "         'c': d['mid']['c'], \n",
    "         'l': d['mid']['l'], \n",
    "         'o': d['mid']['o'], \n",
    "         'volume': d['volume']} \n",
    "        for d in r.response['candles']]\n",
    "\n",
    "# Create a DataFrame from the list of dictionaries\n",
    "df = pd.DataFrame(data)\n",
    "df = (df\n",
    "      .set_axis(['time', 'high', 'close', 'low', 'open', 'volume'], axis=1)\n",
    "      .assign(time= lambda x: pd.to_datetime(x['time']))\n",
    ")\n",
    "df[[\"high\",\"low\",\"close\",\"open\",\"volume\"]] = df[[\"high\",\"low\",\"close\",\"open\",\"volume\"]].apply(pd.to_numeric)"
   ]
  },
  {
   "cell_type": "code",
   "execution_count": 34,
   "metadata": {},
   "outputs": [],
   "source": [
    "train_test_split_index = int(0.8  * df.shape[0])\n",
    "train = df.iloc[:train_test_split_index]\n",
    "test = df.iloc[train_test_split_index:]"
   ]
  },
  {
   "cell_type": "code",
   "execution_count": 35,
   "metadata": {},
   "outputs": [
    {
     "data": {
      "text/html": [
       "<div>\n",
       "<style scoped>\n",
       "    .dataframe tbody tr th:only-of-type {\n",
       "        vertical-align: middle;\n",
       "    }\n",
       "\n",
       "    .dataframe tbody tr th {\n",
       "        vertical-align: top;\n",
       "    }\n",
       "\n",
       "    .dataframe thead th {\n",
       "        text-align: right;\n",
       "    }\n",
       "</style>\n",
       "<table border=\"1\" class=\"dataframe\">\n",
       "  <thead>\n",
       "    <tr style=\"text-align: right;\">\n",
       "      <th></th>\n",
       "      <th>time</th>\n",
       "      <th>high</th>\n",
       "      <th>close</th>\n",
       "      <th>low</th>\n",
       "      <th>open</th>\n",
       "      <th>volume</th>\n",
       "    </tr>\n",
       "  </thead>\n",
       "  <tbody>\n",
       "    <tr>\n",
       "      <th>495</th>\n",
       "      <td>2024-03-29 20:10:00+00:00</td>\n",
       "      <td>151.359</td>\n",
       "      <td>151.359</td>\n",
       "      <td>151.346</td>\n",
       "      <td>151.346</td>\n",
       "      <td>20</td>\n",
       "    </tr>\n",
       "    <tr>\n",
       "      <th>496</th>\n",
       "      <td>2024-03-29 20:20:00+00:00</td>\n",
       "      <td>151.368</td>\n",
       "      <td>151.359</td>\n",
       "      <td>151.359</td>\n",
       "      <td>151.360</td>\n",
       "      <td>20</td>\n",
       "    </tr>\n",
       "    <tr>\n",
       "      <th>497</th>\n",
       "      <td>2024-03-29 20:30:00+00:00</td>\n",
       "      <td>151.373</td>\n",
       "      <td>151.362</td>\n",
       "      <td>151.351</td>\n",
       "      <td>151.358</td>\n",
       "      <td>129</td>\n",
       "    </tr>\n",
       "    <tr>\n",
       "      <th>498</th>\n",
       "      <td>2024-03-29 20:40:00+00:00</td>\n",
       "      <td>151.384</td>\n",
       "      <td>151.373</td>\n",
       "      <td>151.347</td>\n",
       "      <td>151.362</td>\n",
       "      <td>246</td>\n",
       "    </tr>\n",
       "    <tr>\n",
       "      <th>499</th>\n",
       "      <td>2024-03-29 20:50:00+00:00</td>\n",
       "      <td>151.386</td>\n",
       "      <td>151.342</td>\n",
       "      <td>151.333</td>\n",
       "      <td>151.369</td>\n",
       "      <td>198</td>\n",
       "    </tr>\n",
       "  </tbody>\n",
       "</table>\n",
       "</div>"
      ],
      "text/plain": [
       "                         time     high    close      low     open  volume\n",
       "495 2024-03-29 20:10:00+00:00  151.359  151.359  151.346  151.346      20\n",
       "496 2024-03-29 20:20:00+00:00  151.368  151.359  151.359  151.360      20\n",
       "497 2024-03-29 20:30:00+00:00  151.373  151.362  151.351  151.358     129\n",
       "498 2024-03-29 20:40:00+00:00  151.384  151.373  151.347  151.362     246\n",
       "499 2024-03-29 20:50:00+00:00  151.386  151.342  151.333  151.369     198"
      ]
     },
     "execution_count": 35,
     "metadata": {},
     "output_type": "execute_result"
    }
   ],
   "source": [
    "df.tail()"
   ]
  },
  {
   "cell_type": "code",
   "execution_count": 37,
   "metadata": {},
   "outputs": [
    {
     "name": "stdout",
     "output_type": "stream",
     "text": [
      "Total Profit: 9\n",
      "Total Profit: 7\n"
     ]
    }
   ],
   "source": [
    "trader = QLearningTrader(num_actions=3, learning_rate=0.1, discount_factor=0.95, exploration_prob=0.1, state_bins=np.linspace(-0.01, 0.01, num=10))\n",
    "trader.train(train)\n",
    "trader.evaluate(train)\n",
    "trader.evaluate(test)"
   ]
  },
  {
   "cell_type": "code",
   "execution_count": 42,
   "metadata": {},
   "outputs": [
    {
     "data": {
      "text/html": [
       "<div>\n",
       "<style scoped>\n",
       "    .dataframe tbody tr th:only-of-type {\n",
       "        vertical-align: middle;\n",
       "    }\n",
       "\n",
       "    .dataframe tbody tr th {\n",
       "        vertical-align: top;\n",
       "    }\n",
       "\n",
       "    .dataframe thead th {\n",
       "        text-align: right;\n",
       "    }\n",
       "</style>\n",
       "<table border=\"1\" class=\"dataframe\">\n",
       "  <thead>\n",
       "    <tr style=\"text-align: right;\">\n",
       "      <th></th>\n",
       "      <th>time_step</th>\n",
       "      <th>current_state</th>\n",
       "      <th>action</th>\n",
       "      <th>reward</th>\n",
       "      <th>next_state</th>\n",
       "    </tr>\n",
       "  </thead>\n",
       "  <tbody>\n",
       "    <tr>\n",
       "      <th>0</th>\n",
       "      <td>0</td>\n",
       "      <td>10</td>\n",
       "      <td>1</td>\n",
       "      <td>1</td>\n",
       "      <td>10</td>\n",
       "    </tr>\n",
       "    <tr>\n",
       "      <th>1</th>\n",
       "      <td>1</td>\n",
       "      <td>10</td>\n",
       "      <td>1</td>\n",
       "      <td>1</td>\n",
       "      <td>10</td>\n",
       "    </tr>\n",
       "    <tr>\n",
       "      <th>2</th>\n",
       "      <td>2</td>\n",
       "      <td>10</td>\n",
       "      <td>1</td>\n",
       "      <td>1</td>\n",
       "      <td>10</td>\n",
       "    </tr>\n",
       "    <tr>\n",
       "      <th>3</th>\n",
       "      <td>3</td>\n",
       "      <td>10</td>\n",
       "      <td>1</td>\n",
       "      <td>-1</td>\n",
       "      <td>10</td>\n",
       "    </tr>\n",
       "    <tr>\n",
       "      <th>4</th>\n",
       "      <td>4</td>\n",
       "      <td>10</td>\n",
       "      <td>1</td>\n",
       "      <td>-1</td>\n",
       "      <td>10</td>\n",
       "    </tr>\n",
       "    <tr>\n",
       "      <th>...</th>\n",
       "      <td>...</td>\n",
       "      <td>...</td>\n",
       "      <td>...</td>\n",
       "      <td>...</td>\n",
       "      <td>...</td>\n",
       "    </tr>\n",
       "    <tr>\n",
       "      <th>493</th>\n",
       "      <td>94</td>\n",
       "      <td>10</td>\n",
       "      <td>1</td>\n",
       "      <td>1</td>\n",
       "      <td>10</td>\n",
       "    </tr>\n",
       "    <tr>\n",
       "      <th>494</th>\n",
       "      <td>95</td>\n",
       "      <td>10</td>\n",
       "      <td>1</td>\n",
       "      <td>-1</td>\n",
       "      <td>10</td>\n",
       "    </tr>\n",
       "    <tr>\n",
       "      <th>495</th>\n",
       "      <td>96</td>\n",
       "      <td>10</td>\n",
       "      <td>1</td>\n",
       "      <td>1</td>\n",
       "      <td>10</td>\n",
       "    </tr>\n",
       "    <tr>\n",
       "      <th>496</th>\n",
       "      <td>97</td>\n",
       "      <td>10</td>\n",
       "      <td>1</td>\n",
       "      <td>1</td>\n",
       "      <td>10</td>\n",
       "    </tr>\n",
       "    <tr>\n",
       "      <th>497</th>\n",
       "      <td>98</td>\n",
       "      <td>10</td>\n",
       "      <td>2</td>\n",
       "      <td>-1</td>\n",
       "      <td>10</td>\n",
       "    </tr>\n",
       "  </tbody>\n",
       "</table>\n",
       "<p>498 rows × 5 columns</p>\n",
       "</div>"
      ],
      "text/plain": [
       "     time_step  current_state  action  reward  next_state\n",
       "0            0             10       1       1          10\n",
       "1            1             10       1       1          10\n",
       "2            2             10       1       1          10\n",
       "3            3             10       1      -1          10\n",
       "4            4             10       1      -1          10\n",
       "..         ...            ...     ...     ...         ...\n",
       "493         94             10       1       1          10\n",
       "494         95             10       1      -1          10\n",
       "495         96             10       1       1          10\n",
       "496         97             10       1       1          10\n",
       "497         98             10       2      -1          10\n",
       "\n",
       "[498 rows x 5 columns]"
      ]
     },
     "execution_count": 42,
     "metadata": {},
     "output_type": "execute_result"
    }
   ],
   "source": [
    "trader.get_test_log()"
   ]
  },
  {
   "cell_type": "code",
   "execution_count": 20,
   "metadata": {},
   "outputs": [
    {
     "name": "stderr",
     "output_type": "stream",
     "text": [
      "/var/folders/h1/rvjbcw3x19dcwnv6qxb4pxrm0000gn/T/ipykernel_30045/3985009356.py:1: SettingWithCopyWarning: \n",
      "A value is trying to be set on a copy of a slice from a DataFrame.\n",
      "Try using .loc[row_indexer,col_indexer] = value instead\n",
      "\n",
      "See the caveats in the documentation: https://pandas.pydata.org/pandas-docs/stable/user_guide/indexing.html#returning-a-view-versus-a-copy\n",
      "  test[\"action\"] = trader.get_test_log()[\"action\"].tolist() + [None]\n"
     ]
    }
   ],
   "source": [
    "test[\"action\"] = trader.get_test_log()[\"action\"].tolist() + [None]"
   ]
  },
  {
   "cell_type": "code",
   "execution_count": 38,
   "metadata": {},
   "outputs": [
    {
     "name": "stderr",
     "output_type": "stream",
     "text": [
      "/var/folders/h1/rvjbcw3x19dcwnv6qxb4pxrm0000gn/T/ipykernel_30045/935372481.py:1: SettingWithCopyWarning: \n",
      "A value is trying to be set on a copy of a slice from a DataFrame.\n",
      "Try using .loc[row_indexer,col_indexer] = value instead\n",
      "\n",
      "See the caveats in the documentation: https://pandas.pydata.org/pandas-docs/stable/user_guide/indexing.html#returning-a-view-versus-a-copy\n",
      "  train[\"action\"] = trader.get_train_log()[\"action\"].tolist() + [None]\n"
     ]
    }
   ],
   "source": [
    "train[\"action\"] = trader.get_train_log()[\"action\"].tolist() + [None]"
   ]
  },
  {
   "cell_type": "code",
   "execution_count": 43,
   "metadata": {},
   "outputs": [
    {
     "name": "stderr",
     "output_type": "stream",
     "text": [
      "/var/folders/h1/rvjbcw3x19dcwnv6qxb4pxrm0000gn/T/ipykernel_30045/2017675064.py:1: SettingWithCopyWarning: \n",
      "A value is trying to be set on a copy of a slice from a DataFrame.\n",
      "Try using .loc[row_indexer,col_indexer] = value instead\n",
      "\n",
      "See the caveats in the documentation: https://pandas.pydata.org/pandas-docs/stable/user_guide/indexing.html#returning-a-view-versus-a-copy\n",
      "  train[\"market_return\"] = train[\"close\"].pct_change()\n",
      "/var/folders/h1/rvjbcw3x19dcwnv6qxb4pxrm0000gn/T/ipykernel_30045/2017675064.py:2: SettingWithCopyWarning: \n",
      "A value is trying to be set on a copy of a slice from a DataFrame.\n",
      "Try using .loc[row_indexer,col_indexer] = value instead\n",
      "\n",
      "See the caveats in the documentation: https://pandas.pydata.org/pandas-docs/stable/user_guide/indexing.html#returning-a-view-versus-a-copy\n",
      "  train[\"strategy_return\"] = train[\"market_return\"] * train[\"action\"]\n"
     ]
    },
    {
     "data": {
      "text/plain": [
       "0           NaN\n",
       "1      0.000000\n",
       "2      0.000000\n",
       "3      0.000000\n",
       "4      0.000000\n",
       "         ...   \n",
       "395    0.001420\n",
       "396    0.001486\n",
       "397    0.001486\n",
       "398    0.001513\n",
       "399         NaN\n",
       "Name: strategy_return, Length: 400, dtype: float64"
      ]
     },
     "execution_count": 43,
     "metadata": {},
     "output_type": "execute_result"
    }
   ],
   "source": [
    "train[\"market_return\"] = train[\"close\"].pct_change()\n",
    "train[\"strategy_return\"] = train[\"market_return\"] * train[\"action\"]\n",
    "train[\"strategy_return\"].cumsum()"
   ]
  },
  {
   "cell_type": "code",
   "execution_count": 40,
   "metadata": {},
   "outputs": [
    {
     "name": "stderr",
     "output_type": "stream",
     "text": [
      "/var/folders/h1/rvjbcw3x19dcwnv6qxb4pxrm0000gn/T/ipykernel_30045/2005428096.py:1: SettingWithCopyWarning: \n",
      "A value is trying to be set on a copy of a slice from a DataFrame.\n",
      "Try using .loc[row_indexer,col_indexer] = value instead\n",
      "\n",
      "See the caveats in the documentation: https://pandas.pydata.org/pandas-docs/stable/user_guide/indexing.html#returning-a-view-versus-a-copy\n",
      "  test[\"market_return\"] = test[\"close\"].pct_change()\n"
     ]
    }
   ],
   "source": [
    "test[\"market_return\"] = test[\"close\"].pct_change()"
   ]
  },
  {
   "cell_type": "code",
   "execution_count": 22,
   "metadata": {},
   "outputs": [
    {
     "name": "stderr",
     "output_type": "stream",
     "text": [
      "/var/folders/h1/rvjbcw3x19dcwnv6qxb4pxrm0000gn/T/ipykernel_30045/2306199835.py:1: SettingWithCopyWarning: \n",
      "A value is trying to be set on a copy of a slice from a DataFrame.\n",
      "Try using .loc[row_indexer,col_indexer] = value instead\n",
      "\n",
      "See the caveats in the documentation: https://pandas.pydata.org/pandas-docs/stable/user_guide/indexing.html#returning-a-view-versus-a-copy\n",
      "  test[\"strategy_return\"] = test[\"market_return\"] * test[\"action\"]\n"
     ]
    }
   ],
   "source": [
    "test[\"strategy_return\"] = test[\"market_return\"] * test[\"action\"]"
   ]
  },
  {
   "cell_type": "code",
   "execution_count": 23,
   "metadata": {},
   "outputs": [
    {
     "data": {
      "text/plain": [
       "400           NaN\n",
       "401    -79.311576\n",
       "402   -396.570459\n",
       "403   -185.030980\n",
       "404   -158.591342\n",
       "          ...    \n",
       "495    292.185585\n",
       "496    292.185585\n",
       "497    331.826439\n",
       "498    477.173356\n",
       "499           NaN\n",
       "Name: strategy_return, Length: 100, dtype: float64"
      ]
     },
     "execution_count": 23,
     "metadata": {},
     "output_type": "execute_result"
    }
   ],
   "source": [
    "test[\"strategy_return\"].cumsum() * 1000000"
   ]
  },
  {
   "cell_type": "code",
   "execution_count": 24,
   "metadata": {},
   "outputs": [],
   "source": [
    "import pandas as pd\n",
    "\n",
    "# Simulating incoming data as two consecutive data points\n",
    "current_data_df = pd.DataFrame({'close': [151.384]}, index=[0])  # Current market condition\n",
    "next_data_df = pd.DataFrame({'close': [151.263]}, index=[0])  # Next market condition (for outcome evaluation)\n"
   ]
  },
  {
   "cell_type": "code",
   "execution_count": 25,
   "metadata": {},
   "outputs": [
    {
     "name": "stdout",
     "output_type": "stream",
     "text": [
      "Predicted action based on the current data: hold\n"
     ]
    }
   ],
   "source": [
    "predicted_action = trader.predict_action(current_data_df)\n",
    "action_dict = {0: 'buy', 1: 'sell', 2: 'hold'}\n",
    "print(f\"Predicted action based on the current data: {action_dict[predicted_action]}\")"
   ]
  },
  {
   "cell_type": "code",
   "execution_count": 26,
   "metadata": {},
   "outputs": [],
   "source": [
    "trader.online_update(current_data_df, next_data_df)"
   ]
  },
  {
   "cell_type": "code",
   "execution_count": 27,
   "metadata": {},
   "outputs": [
    {
     "data": {
      "text/plain": [
       "0"
      ]
     },
     "execution_count": 27,
     "metadata": {},
     "output_type": "execute_result"
    }
   ],
   "source": [
    "trader.calculate_reward(151.384, 151.263, predicted_action)"
   ]
  }
 ],
 "metadata": {
  "kernelspec": {
   "display_name": "python-real-time-algo-trading-system-VjTAhlFc-py3.12",
   "language": "python",
   "name": "python3"
  },
  "language_info": {
   "codemirror_mode": {
    "name": "ipython",
    "version": 3
   },
   "file_extension": ".py",
   "mimetype": "text/x-python",
   "name": "python",
   "nbconvert_exporter": "python",
   "pygments_lexer": "ipython3",
   "version": "3.12.2"
  }
 },
 "nbformat": 4,
 "nbformat_minor": 2
}
