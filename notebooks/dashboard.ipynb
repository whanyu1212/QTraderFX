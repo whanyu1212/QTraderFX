{
 "cells": [
  {
   "cell_type": "code",
   "execution_count": 7,
   "metadata": {},
   "outputs": [],
   "source": [
    "from dash import Dash, html, dash_table, dcc, callback, Output, Input\n",
    "import pandas as pd\n",
    "import numpy as np\n",
    "import plotly.express as px\n",
    "import plotly.graph_objects as go\n",
    "import time\n",
    "\n",
    "import oandapyV20\n",
    "from oandapyV20 import API\n",
    "import oandapyV20.endpoints.pricing as pricing\n",
    "import oandapyV20.endpoints.instruments as instruments"
   ]
  },
  {
   "cell_type": "code",
   "execution_count": 8,
   "metadata": {},
   "outputs": [],
   "source": [
    "account_id = \"ACCOUNT_ID\"\n",
    "token = \"TOKEN\"\n",
    "api = oandapyV20.API(access_token=token)"
   ]
  },
  {
   "cell_type": "code",
   "execution_count": 9,
   "metadata": {},
   "outputs": [],
   "source": [
    "def get_currency_price(instrument_list):\n",
    "    rst_dict = {}\n",
    "    for instrument in instrument_list:\n",
    "        params = {\"instruments\": instrument, \"since\": None, \"includeUnitsAvailable\": False}\n",
    "        r = pricing.PricingInfo(accountID=account_id, params=params)\n",
    "        api.request(r)\n",
    "\n",
    "        price = r.response.get(\"prices\")[0]\n",
    "        \n",
    "        rst_dict[instrument] = {}\n",
    "        rst_dict[instrument][\"bid\"] = price.get(\"bids\")[0].get(\"price\")\n",
    "        rst_dict[instrument][\"ask\"] = price.get(\"asks\")[0].get(\"price\")\n",
    "\n",
    "    return rst_dict"
   ]
  },
  {
   "cell_type": "code",
   "execution_count": 10,
   "metadata": {},
   "outputs": [],
   "source": [
    "def get_currency_candle(instrument, granularity = 'S5', count = 30):\n",
    "    df = pd.DataFrame()\n",
    "    params = {\"granularity\": granularity, \"count\": count}\n",
    "    r = instruments.InstrumentsCandles(instrument=instrument, params=params)\n",
    "    api.request(r)\n",
    "\n",
    "    data = [\n",
    "        {\n",
    "            \"Time\": pd.to_datetime(d[\"time\"].split(\".\")[0]),\n",
    "            \"High\": d[\"mid\"][\"h\"],\n",
    "            \"Close\": d[\"mid\"][\"c\"],\n",
    "            \"Low\": d[\"mid\"][\"l\"],\n",
    "            \"Open\": d[\"mid\"][\"o\"],\n",
    "        }\n",
    "        for d in r.response[\"candles\"]\n",
    "    ]\n",
    "    df = pd.DataFrame(data)\n",
    "    return df"
   ]
  },
  {
   "cell_type": "code",
   "execution_count": 11,
   "metadata": {},
   "outputs": [],
   "source": [
    "currency_pair_list = ['EUR_USD', 'GBP_USD', 'USD_JPY', 'AUD_USD']"
   ]
  },
  {
   "cell_type": "code",
   "execution_count": 12,
   "metadata": {},
   "outputs": [
    {
     "name": "stdout",
     "output_type": "stream",
     "text": [
      "Dash app running on http://127.0.0.1:8050/\n"
     ]
    }
   ],
   "source": [
    "app = Dash(__name__)\n",
    "\n",
    "app.layout = html.Div([\n",
    "    html.H1('Forex Trading Dashboard'),\n",
    "    # show radio button to select the currency pair\n",
    "    dcc.RadioItems(id='currency-pair', options=[{'label': i, 'value': i} for i in currency_pair_list], value='EUR_USD'),\n",
    "    # show the candlestick chart of currency price\n",
    "    dcc.Graph(id='candlestick-chart'),\n",
    "    # show the latest currency pair bid/ask price\n",
    "    html.P('Currency Price: '),\n",
    "    html.Table([\n",
    "        html.Tr([html.Th('Currency Pair'), html.Th('Bid Price'), html.Th('Ask Price')]),\n",
    "        html.Tr([html.Td('EUR/USD'), html.Td(id='EURUSD-bid-price'), html.Td(id='EURUSD-ask-price')]),\n",
    "        html.Tr([html.Td('GBP/USD'), html.Td(id='GBPUSD-bid-price'), html.Td(id='GBPUSD-ask-price')]),\n",
    "        html.Tr([html.Td('USD/JPY'), html.Td(id='USDJPY-bid-price'), html.Td(id='USDJPY-ask-price')]),\n",
    "        html.Tr([html.Td('AUD/USD'), html.Td(id='AUDUSD-bid-price'), html.Td(id='AUDUSD-ask-price')])\n",
    "    ]),\n",
    "    # update the chart every second\n",
    "    dcc.Interval(id='interval', interval=5000)\n",
    "])\n",
    "\n",
    "@app.callback(\n",
    "    Output(component_id='candlestick-chart', component_property='figure'),\n",
    "    Output(component_id='EURUSD-bid-price', component_property='children'),\n",
    "    Output(component_id='EURUSD-ask-price', component_property='children'),\n",
    "    Output(component_id='GBPUSD-bid-price', component_property='children'),\n",
    "    Output(component_id='GBPUSD-ask-price', component_property='children'),\n",
    "    Output(component_id='USDJPY-bid-price', component_property='children'),\n",
    "    Output(component_id='USDJPY-ask-price', component_property='children'),\n",
    "    Output(component_id='AUDUSD-bid-price', component_property='children'),\n",
    "    Output(component_id='AUDUSD-ask-price', component_property='children'),\n",
    "    Input(component_id='currency-pair', component_property='value'),\n",
    "    Input(component_id='interval', component_property='n_intervals')\n",
    ")\n",
    "def update_candlestick_chart(currency_pair, n_intervals):\n",
    "    # get the currency pair selected\n",
    "    df = get_currency_candle(currency_pair)\n",
    "    fig = go.Figure(data=[go.Candlestick(x=df['Time'],\n",
    "                                         open=df['Open'],\n",
    "                                         high=df['High'],\n",
    "                                         low=df['Low'],\n",
    "                                         close=df['Close'])])\n",
    "    fig.update_layout(title='Candlestick Chart', xaxis_title='Time', yaxis_title='Price', xaxis_rangeslider_visible=False, height=400, width=1300)\n",
    "\n",
    "    # get the latest currency price\n",
    "    currency_price_dict = get_currency_price(currency_pair_list)\n",
    "\n",
    "    return fig, \\\n",
    "        currency_price_dict.get('EUR_USD').get('bid'), currency_price_dict.get('EUR_USD').get('ask'), \\\n",
    "        currency_price_dict.get('GBP_USD').get('bid'), currency_price_dict.get('GBP_USD').get('ask'), \\\n",
    "        currency_price_dict.get('USD_JPY').get('bid'), currency_price_dict.get('USD_JPY').get('ask'), \\\n",
    "        currency_price_dict.get('AUD_USD').get('bid'), currency_price_dict.get('AUD_USD').get('ask')\n",
    "\n",
    "if __name__ == '__main__':\n",
    "    app.run_server(jupyter_mode=\"external\", debug=True)"
   ]
  },
  {
   "cell_type": "code",
   "execution_count": null,
   "metadata": {},
   "outputs": [],
   "source": []
  }
 ],
 "metadata": {
  "kernelspec": {
   "display_name": "FT5005MachineLearningEnv2",
   "language": "python",
   "name": "python3"
  },
  "language_info": {
   "codemirror_mode": {
    "name": "ipython",
    "version": 3
   },
   "file_extension": ".py",
   "mimetype": "text/x-python",
   "name": "python",
   "nbconvert_exporter": "python",
   "pygments_lexer": "ipython3",
   "version": "3.11.7"
  }
 },
 "nbformat": 4,
 "nbformat_minor": 2
}
