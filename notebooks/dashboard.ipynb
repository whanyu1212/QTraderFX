{
 "cells": [
  {
   "cell_type": "code",
   "execution_count": 1,
   "metadata": {},
   "outputs": [
    {
     "name": "stdout",
     "output_type": "stream",
     "text": [
      "Collecting dash\n",
      "  Downloading dash-2.16.1-py3-none-any.whl.metadata (10 kB)\n",
      "Collecting Flask<3.1,>=1.0.4 (from dash)\n",
      "  Downloading flask-3.0.2-py3-none-any.whl.metadata (3.6 kB)\n",
      "Collecting Werkzeug<3.1 (from dash)\n",
      "  Using cached werkzeug-3.0.2-py3-none-any.whl.metadata (4.1 kB)\n",
      "Collecting plotly>=5.0.0 (from dash)\n",
      "  Downloading plotly-5.20.0-py3-none-any.whl.metadata (7.0 kB)\n",
      "Collecting dash-html-components==2.0.0 (from dash)\n",
      "  Downloading dash_html_components-2.0.0-py3-none-any.whl.metadata (3.8 kB)\n",
      "Collecting dash-core-components==2.0.0 (from dash)\n",
      "  Downloading dash_core_components-2.0.0-py3-none-any.whl.metadata (2.9 kB)\n",
      "Collecting dash-table==5.0.0 (from dash)\n",
      "  Downloading dash_table-5.0.0-py3-none-any.whl.metadata (2.4 kB)\n",
      "Requirement already satisfied: importlib-metadata in c:\\users\\liaoyf\\anaconda3\\envs\\ft5010algotradingenv\\lib\\site-packages (from dash) (7.0.1)\n",
      "Requirement already satisfied: typing-extensions>=4.1.1 in c:\\users\\liaoyf\\anaconda3\\envs\\ft5010algotradingenv\\lib\\site-packages (from dash) (4.9.0)\n",
      "Requirement already satisfied: requests in c:\\users\\liaoyf\\anaconda3\\envs\\ft5010algotradingenv\\lib\\site-packages (from dash) (2.31.0)\n",
      "Collecting retrying (from dash)\n",
      "  Downloading retrying-1.3.4-py3-none-any.whl.metadata (6.9 kB)\n",
      "Requirement already satisfied: nest-asyncio in c:\\users\\liaoyf\\appdata\\roaming\\python\\python311\\site-packages (from dash) (1.5.8)\n",
      "Requirement already satisfied: setuptools in c:\\users\\liaoyf\\anaconda3\\envs\\ft5010algotradingenv\\lib\\site-packages (from dash) (69.0.3)\n",
      "Collecting Jinja2>=3.1.2 (from Flask<3.1,>=1.0.4->dash)\n",
      "  Using cached Jinja2-3.1.3-py3-none-any.whl.metadata (3.3 kB)\n",
      "Collecting itsdangerous>=2.1.2 (from Flask<3.1,>=1.0.4->dash)\n",
      "  Downloading itsdangerous-2.1.2-py3-none-any.whl.metadata (2.9 kB)\n",
      "Requirement already satisfied: click>=8.1.3 in c:\\users\\liaoyf\\anaconda3\\envs\\ft5010algotradingenv\\lib\\site-packages (from Flask<3.1,>=1.0.4->dash) (8.1.7)\n",
      "Collecting blinker>=1.6.2 (from Flask<3.1,>=1.0.4->dash)\n",
      "  Downloading blinker-1.7.0-py3-none-any.whl.metadata (1.9 kB)\n",
      "Collecting tenacity>=6.2.0 (from plotly>=5.0.0->dash)\n",
      "  Downloading tenacity-8.2.3-py3-none-any.whl.metadata (1.0 kB)\n",
      "Requirement already satisfied: packaging in c:\\users\\liaoyf\\anaconda3\\envs\\ft5010algotradingenv\\lib\\site-packages (from plotly>=5.0.0->dash) (23.2)\n",
      "Collecting MarkupSafe>=2.1.1 (from Werkzeug<3.1->dash)\n",
      "  Using cached MarkupSafe-2.1.5-cp311-cp311-win_amd64.whl.metadata (3.1 kB)\n",
      "Requirement already satisfied: zipp>=0.5 in c:\\users\\liaoyf\\anaconda3\\envs\\ft5010algotradingenv\\lib\\site-packages (from importlib-metadata->dash) (3.17.0)\n",
      "Requirement already satisfied: charset-normalizer<4,>=2 in c:\\users\\liaoyf\\anaconda3\\envs\\ft5010algotradingenv\\lib\\site-packages (from requests->dash) (3.3.2)\n",
      "Requirement already satisfied: idna<4,>=2.5 in c:\\users\\liaoyf\\anaconda3\\envs\\ft5010algotradingenv\\lib\\site-packages (from requests->dash) (3.6)\n",
      "Requirement already satisfied: urllib3<3,>=1.21.1 in c:\\users\\liaoyf\\anaconda3\\envs\\ft5010algotradingenv\\lib\\site-packages (from requests->dash) (2.2.0)\n",
      "Requirement already satisfied: certifi>=2017.4.17 in c:\\users\\liaoyf\\anaconda3\\envs\\ft5010algotradingenv\\lib\\site-packages (from requests->dash) (2024.2.2)\n",
      "Requirement already satisfied: six>=1.7.0 in c:\\users\\liaoyf\\anaconda3\\envs\\ft5010algotradingenv\\lib\\site-packages (from retrying->dash) (1.16.0)\n",
      "Requirement already satisfied: colorama in c:\\users\\liaoyf\\anaconda3\\envs\\ft5010algotradingenv\\lib\\site-packages (from click>=8.1.3->Flask<3.1,>=1.0.4->dash) (0.4.6)\n",
      "Downloading dash-2.16.1-py3-none-any.whl (10.2 MB)\n",
      "   ---------------------------------------- 0.0/10.2 MB ? eta -:--:--\n",
      "   - -------------------------------------- 0.3/10.2 MB 6.1 MB/s eta 0:00:02\n",
      "   -- ------------------------------------- 0.5/10.2 MB 6.8 MB/s eta 0:00:02\n",
      "   --- ------------------------------------ 0.9/10.2 MB 8.2 MB/s eta 0:00:02\n",
      "   ---- ----------------------------------- 1.1/10.2 MB 7.2 MB/s eta 0:00:02\n",
      "   ------ --------------------------------- 1.6/10.2 MB 7.9 MB/s eta 0:00:02\n",
      "   ------- -------------------------------- 2.0/10.2 MB 7.8 MB/s eta 0:00:02\n",
      "   --------- ------------------------------ 2.3/10.2 MB 7.7 MB/s eta 0:00:02\n",
      "   ---------- ----------------------------- 2.7/10.2 MB 7.4 MB/s eta 0:00:02\n",
      "   ------------ --------------------------- 3.2/10.2 MB 7.7 MB/s eta 0:00:01\n",
      "   --------------- ------------------------ 3.8/10.2 MB 8.4 MB/s eta 0:00:01\n",
      "   ---------------- ----------------------- 4.3/10.2 MB 8.6 MB/s eta 0:00:01\n",
      "   ------------------- -------------------- 4.9/10.2 MB 9.2 MB/s eta 0:00:01\n",
      "   -------------------- ------------------- 5.4/10.2 MB 9.5 MB/s eta 0:00:01\n",
      "   ----------------------- ---------------- 6.0/10.2 MB 9.6 MB/s eta 0:00:01\n",
      "   -------------------------- ------------- 6.7/10.2 MB 9.9 MB/s eta 0:00:01\n",
      "   ---------------------------- ----------- 7.3/10.2 MB 10.2 MB/s eta 0:00:01\n",
      "   ------------------------------ --------- 7.8/10.2 MB 10.2 MB/s eta 0:00:01\n",
      "   -------------------------------- ------- 8.4/10.2 MB 10.5 MB/s eta 0:00:01\n",
      "   ----------------------------------- ---- 9.1/10.2 MB 10.7 MB/s eta 0:00:01\n",
      "   -------------------------------------- - 9.7/10.2 MB 10.7 MB/s eta 0:00:01\n",
      "   ---------------------------------------  10.2/10.2 MB 10.9 MB/s eta 0:00:01\n",
      "   ---------------------------------------- 10.2/10.2 MB 10.7 MB/s eta 0:00:00\n",
      "Downloading dash_core_components-2.0.0-py3-none-any.whl (3.8 kB)\n",
      "Downloading dash_html_components-2.0.0-py3-none-any.whl (4.1 kB)\n",
      "Downloading dash_table-5.0.0-py3-none-any.whl (3.9 kB)\n",
      "Downloading flask-3.0.2-py3-none-any.whl (101 kB)\n",
      "   ---------------------------------------- 0.0/101.3 kB ? eta -:--:--\n",
      "   ---------------------------------------- 101.3/101.3 kB ? eta 0:00:00\n",
      "Downloading plotly-5.20.0-py3-none-any.whl (15.7 MB)\n",
      "   ---------------------------------------- 0.0/15.7 MB ? eta -:--:--\n",
      "   - -------------------------------------- 0.5/15.7 MB 10.7 MB/s eta 0:00:02\n",
      "   -- ------------------------------------- 1.2/15.7 MB 12.3 MB/s eta 0:00:02\n",
      "   ---- ----------------------------------- 1.8/15.7 MB 14.2 MB/s eta 0:00:01\n",
      "   ------ --------------------------------- 2.5/15.7 MB 13.3 MB/s eta 0:00:01\n",
      "   ------- -------------------------------- 3.1/15.7 MB 13.3 MB/s eta 0:00:01\n",
      "   --------- ------------------------------ 3.6/15.7 MB 12.8 MB/s eta 0:00:01\n",
      "   ---------- ----------------------------- 4.1/15.7 MB 13.0 MB/s eta 0:00:01\n",
      "   ----------- ---------------------------- 4.6/15.7 MB 12.8 MB/s eta 0:00:01\n",
      "   ------------- -------------------------- 5.3/15.7 MB 13.0 MB/s eta 0:00:01\n",
      "   --------------- ------------------------ 5.9/15.7 MB 13.0 MB/s eta 0:00:01\n",
      "   ---------------- ----------------------- 6.5/15.7 MB 12.6 MB/s eta 0:00:01\n",
      "   ------------------ --------------------- 7.2/15.7 MB 12.8 MB/s eta 0:00:01\n",
      "   ------------------- -------------------- 7.6/15.7 MB 12.8 MB/s eta 0:00:01\n",
      "   -------------------- ------------------- 8.1/15.7 MB 12.9 MB/s eta 0:00:01\n",
      "   ---------------------- ----------------- 8.6/15.7 MB 12.8 MB/s eta 0:00:01\n",
      "   ----------------------- ---------------- 9.3/15.7 MB 12.9 MB/s eta 0:00:01\n",
      "   ------------------------- -------------- 9.9/15.7 MB 13.0 MB/s eta 0:00:01\n",
      "   -------------------------- ------------- 10.5/15.7 MB 12.8 MB/s eta 0:00:01\n",
      "   ---------------------------- ----------- 11.2/15.7 MB 12.8 MB/s eta 0:00:01\n",
      "   ----------------------------- ---------- 11.7/15.7 MB 12.8 MB/s eta 0:00:01\n",
      "   ------------------------------- -------- 12.3/15.7 MB 12.8 MB/s eta 0:00:01\n",
      "   -------------------------------- ------- 12.9/15.7 MB 12.6 MB/s eta 0:00:01\n",
      "   --------------------------------- ------ 13.3/15.7 MB 12.6 MB/s eta 0:00:01\n",
      "   ----------------------------------- ---- 14.0/15.7 MB 12.6 MB/s eta 0:00:01\n",
      "   ------------------------------------- -- 14.6/15.7 MB 12.8 MB/s eta 0:00:01\n",
      "   -------------------------------------- - 15.2/15.7 MB 12.9 MB/s eta 0:00:01\n",
      "   ---------------------------------------  15.7/15.7 MB 12.6 MB/s eta 0:00:01\n",
      "   ---------------------------------------- 15.7/15.7 MB 12.3 MB/s eta 0:00:00\n",
      "Using cached werkzeug-3.0.2-py3-none-any.whl (226 kB)\n",
      "Downloading retrying-1.3.4-py3-none-any.whl (11 kB)\n",
      "Downloading blinker-1.7.0-py3-none-any.whl (13 kB)\n",
      "Downloading itsdangerous-2.1.2-py3-none-any.whl (15 kB)\n",
      "Using cached Jinja2-3.1.3-py3-none-any.whl (133 kB)\n",
      "Using cached MarkupSafe-2.1.5-cp311-cp311-win_amd64.whl (17 kB)\n",
      "Downloading tenacity-8.2.3-py3-none-any.whl (24 kB)\n",
      "Installing collected packages: dash-table, dash-html-components, dash-core-components, tenacity, retrying, MarkupSafe, itsdangerous, blinker, Werkzeug, plotly, Jinja2, Flask, dash\n",
      "Successfully installed Flask-3.0.2 Jinja2-3.1.3 MarkupSafe-2.1.5 Werkzeug-3.0.2 blinker-1.7.0 dash-2.16.1 dash-core-components-2.0.0 dash-html-components-2.0.0 dash-table-5.0.0 itsdangerous-2.1.2 plotly-5.20.0 retrying-1.3.4 tenacity-8.2.3\n"
     ]
    }
   ],
   "source": [
    "!pip install dash"
   ]
  },
  {
   "cell_type": "code",
   "execution_count": 23,
   "metadata": {},
   "outputs": [],
   "source": [
    "from dash import Dash, html, dash_table, dcc, callback, Output, Input\n",
    "import pandas as pd\n",
    "import numpy as np\n",
    "import plotly.express as px\n",
    "import plotly.graph_objects as go\n",
    "import time\n"
   ]
  },
  {
   "cell_type": "code",
   "execution_count": 32,
   "metadata": {},
   "outputs": [
    {
     "data": {
      "text/plain": [
       "Date     datetime64[ns]\n",
       "High              int64\n",
       "Low               int64\n",
       "Open              int64\n",
       "Close             int64\n",
       "dtype: object"
      ]
     },
     "execution_count": 32,
     "metadata": {},
     "output_type": "execute_result"
    }
   ],
   "source": [
    "# Create a dataframe with columns 'Date', 'High', 'Low', 'Open', 'Close'\n",
    "df = pd.DataFrame({\n",
    "    'Date': ['2021-01-01', '2021-01-02', '2021-01-03', '2021-01-04', '2021-01-05'],\n",
    "    'High': [110, 120, 130, 140, 150],\n",
    "    'Low': [90, 100, 110, 120, 130],\n",
    "    'Open': [95, 105, 115, 125, 145],\n",
    "    'Close': [105, 115, 125, 135, 135]\n",
    "})\n",
    "df.Date = pd.to_datetime(df.Date)\n",
    "df.dtypes"
   ]
  },
  {
   "cell_type": "code",
   "execution_count": 33,
   "metadata": {},
   "outputs": [
    {
     "data": {
      "text/html": [
       "\n",
       "        <iframe\n",
       "            width=\"100%\"\n",
       "            height=\"650\"\n",
       "            src=\"http://127.0.0.1:8050/\"\n",
       "            frameborder=\"0\"\n",
       "            allowfullscreen\n",
       "            \n",
       "        ></iframe>\n",
       "        "
      ],
      "text/plain": [
       "<IPython.lib.display.IFrame at 0x2221b754e50>"
      ]
     },
     "metadata": {},
     "output_type": "display_data"
    },
    {
     "ename": "KeyboardInterrupt",
     "evalue": "",
     "output_type": "error",
     "traceback": [
      "\u001b[1;31m---------------------------------------------------------------------------\u001b[0m",
      "\u001b[1;31mKeyboardInterrupt\u001b[0m                         Traceback (most recent call last)",
      "Cell \u001b[1;32mIn[33], line 35\u001b[0m\n\u001b[0;32m     27\u001b[0m new_data \u001b[38;5;241m=\u001b[39m pd\u001b[38;5;241m.\u001b[39mDataFrame({\n\u001b[0;32m     28\u001b[0m     \u001b[38;5;124m'\u001b[39m\u001b[38;5;124mDate\u001b[39m\u001b[38;5;124m'\u001b[39m: df\u001b[38;5;241m.\u001b[39mDate\u001b[38;5;241m.\u001b[39mtail(\u001b[38;5;241m1\u001b[39m) \u001b[38;5;241m+\u001b[39m pd\u001b[38;5;241m.\u001b[39mDateOffset(days\u001b[38;5;241m=\u001b[39m\u001b[38;5;241m1\u001b[39m),\n\u001b[0;32m     29\u001b[0m     \u001b[38;5;124m'\u001b[39m\u001b[38;5;124mHigh\u001b[39m\u001b[38;5;124m'\u001b[39m: [ran_num \u001b[38;5;241m+\u001b[39m rng\u001b[38;5;241m.\u001b[39mintegers(\u001b[38;5;241m10\u001b[39m, \u001b[38;5;241m20\u001b[39m)],\n\u001b[1;32m   (...)\u001b[0m\n\u001b[0;32m     32\u001b[0m     \u001b[38;5;124m'\u001b[39m\u001b[38;5;124mClose\u001b[39m\u001b[38;5;124m'\u001b[39m: [ran_num \u001b[38;5;241m+\u001b[39m rng\u001b[38;5;241m.\u001b[39mintegers(\u001b[38;5;241m-\u001b[39m\u001b[38;5;241m10\u001b[39m, \u001b[38;5;241m10\u001b[39m)]\n\u001b[0;32m     33\u001b[0m })\n\u001b[0;32m     34\u001b[0m df \u001b[38;5;241m=\u001b[39m pd\u001b[38;5;241m.\u001b[39mconcat([df, new_data], ignore_index\u001b[38;5;241m=\u001b[39m\u001b[38;5;28;01mTrue\u001b[39;00m)\n\u001b[1;32m---> 35\u001b[0m time\u001b[38;5;241m.\u001b[39msleep(\u001b[38;5;241m2\u001b[39m)\n",
      "\u001b[1;31mKeyboardInterrupt\u001b[0m: "
     ]
    }
   ],
   "source": [
    "app = Dash(__name__)\n",
    "\n",
    "app.layout = html.Div([\n",
    "    dcc.Graph(id='candlestick-chart'),\n",
    "    dcc.Interval(id='interval', interval=1000)\n",
    "])\n",
    "\n",
    "@app.callback(\n",
    "    Output(component_id='candlestick-chart', component_property='figure'),\n",
    "    Input(component_id='interval', component_property='n_intervals')\n",
    ")\n",
    "def update_candlestick_chart(n_intervals):\n",
    "    fig = go.Figure(data=[go.Candlestick(x=df['Date'],\n",
    "                                         open=df['Open'],\n",
    "                                         high=df['High'],\n",
    "                                         low=df['Low'],\n",
    "                                         close=df['Close'])])\n",
    "    fig.update_layout(title='Candlestick Chart', xaxis_title='Date', yaxis_title='Price', xaxis_rangeslider_visible=False, height=600, width=1000)\n",
    "    return fig\n",
    "\n",
    "if __name__ == '__main__':\n",
    "    app.run_server(debug=True)\n",
    "    rng = np.random.default_rng()\n",
    "    while(True):\n",
    "        ran_num = np.random.randint(100,150)\n",
    "        # add new data to the dataframe\n",
    "        new_data = pd.DataFrame({\n",
    "            'Date': df.Date.tail(1) + pd.DateOffset(days=1),\n",
    "            'High': [ran_num + rng.integers(10, 20)],\n",
    "            'Low': [ran_num - rng.integers(10, 20)],\n",
    "            'Open': [ran_num + rng.integers(-10, 10)],\n",
    "            'Close': [ran_num + rng.integers(-10, 10)]\n",
    "        })\n",
    "        df = pd.concat([df, new_data], ignore_index=True)\n",
    "        time.sleep(2)"
   ]
  },
  {
   "cell_type": "code",
   "execution_count": null,
   "metadata": {},
   "outputs": [],
   "source": []
  }
 ],
 "metadata": {
  "kernelspec": {
   "display_name": "FT5005MachineLearningEnv2",
   "language": "python",
   "name": "python3"
  },
  "language_info": {
   "codemirror_mode": {
    "name": "ipython",
    "version": 3
   },
   "file_extension": ".py",
   "mimetype": "text/x-python",
   "name": "python",
   "nbconvert_exporter": "python",
   "pygments_lexer": "ipython3",
   "version": "3.11.7"
  }
 },
 "nbformat": 4,
 "nbformat_minor": 2
}
